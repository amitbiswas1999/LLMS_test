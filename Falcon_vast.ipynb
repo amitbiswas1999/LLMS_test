{
 "cells": [
  {
   "cell_type": "code",
   "execution_count": 1,
   "id": "e1f10293",
   "metadata": {},
   "outputs": [
    {
     "name": "stdout",
     "output_type": "stream",
     "text": [
      "\u001b[33mWARNING: Running pip as the 'root' user can result in broken permissions and conflicting behaviour with the system package manager. It is recommended to use a virtual environment instead: https://pip.pypa.io/warnings/venv\u001b[0m\u001b[33m\r\n",
      "\u001b[0m"
     ]
    }
   ],
   "source": [
    "!pip install -q transformers einops accelerate langchain bitsandbytes"
   ]
  },
  {
   "cell_type": "code",
   "execution_count": 2,
   "id": "91d8eca6",
   "metadata": {},
   "outputs": [
    {
     "name": "stdout",
     "output_type": "stream",
     "text": [
      "Mon Jul  3 06:06:47 2023       \n",
      "+-----------------------------------------------------------------------------+\n",
      "| NVIDIA-SMI 525.105.17   Driver Version: 525.105.17   CUDA Version: 12.0     |\n",
      "|-------------------------------+----------------------+----------------------+\n",
      "| GPU  Name        Persistence-M| Bus-Id        Disp.A | Volatile Uncorr. ECC |\n",
      "| Fan  Temp  Perf  Pwr:Usage/Cap|         Memory-Usage | GPU-Util  Compute M. |\n",
      "|                               |                      |               MIG M. |\n",
      "|===============================+======================+======================|\n",
      "|   0  NVIDIA GeForce ...  On   | 00000000:82:00.0 Off |                  Off |\n",
      "|  0%   49C    P8    24W / 450W |      1MiB / 24564MiB |      0%      Default |\n",
      "|                               |                      |                  N/A |\n",
      "+-------------------------------+----------------------+----------------------+\n",
      "|   1  NVIDIA GeForce ...  On   | 00000000:C2:00.0 Off |                  Off |\n",
      "|  0%   49C    P8    26W / 450W |      1MiB / 24564MiB |      0%      Default |\n",
      "|                               |                      |                  N/A |\n",
      "+-------------------------------+----------------------+----------------------+\n",
      "                                                                               \n",
      "+-----------------------------------------------------------------------------+\n",
      "| Processes:                                                                  |\n",
      "|  GPU   GI   CI        PID   Type   Process name                  GPU Memory |\n",
      "|        ID   ID                                                   Usage      |\n",
      "|=============================================================================|\n",
      "|  No running processes found                                                 |\n",
      "+-----------------------------------------------------------------------------+\n"
     ]
    }
   ],
   "source": [
    "!nvidia-smi"
   ]
  },
  {
   "cell_type": "code",
   "execution_count": 5,
   "id": "bfadeb2b",
   "metadata": {},
   "outputs": [
    {
     "data": {
      "application/vnd.jupyter.widget-view+json": {
       "model_id": "29b100e096e14714bef4a13a59596a9e",
       "version_major": 2,
       "version_minor": 0
      },
      "text/plain": [
       "Downloading (…)okenizer_config.json:   0%|          | 0.00/220 [00:00<?, ?B/s]"
      ]
     },
     "metadata": {},
     "output_type": "display_data"
    },
    {
     "data": {
      "application/vnd.jupyter.widget-view+json": {
       "model_id": "2ef93fec9d6b4ff1bb7b77d6b68e05fb",
       "version_major": 2,
       "version_minor": 0
      },
      "text/plain": [
       "Downloading (…)/main/tokenizer.json:   0%|          | 0.00/2.73M [00:00<?, ?B/s]"
      ]
     },
     "metadata": {},
     "output_type": "display_data"
    },
    {
     "data": {
      "application/vnd.jupyter.widget-view+json": {
       "model_id": "d1e9e0a36b0d44a498720de814f7948c",
       "version_major": 2,
       "version_minor": 0
      },
      "text/plain": [
       "Downloading (…)cial_tokens_map.json:   0%|          | 0.00/281 [00:00<?, ?B/s]"
      ]
     },
     "metadata": {},
     "output_type": "display_data"
    },
    {
     "data": {
      "application/vnd.jupyter.widget-view+json": {
       "model_id": "7fe345b2c5304421b3cf503e7d21798c",
       "version_major": 2,
       "version_minor": 0
      },
      "text/plain": [
       "Downloading (…)lve/main/config.json:   0%|          | 0.00/667 [00:00<?, ?B/s]"
      ]
     },
     "metadata": {},
     "output_type": "display_data"
    },
    {
     "data": {
      "application/vnd.jupyter.widget-view+json": {
       "model_id": "6fa0168b6d754ac0b93e5efd6a7d960e",
       "version_major": 2,
       "version_minor": 0
      },
      "text/plain": [
       "Downloading (…)/configuration_RW.py:   0%|          | 0.00/2.61k [00:00<?, ?B/s]"
      ]
     },
     "metadata": {},
     "output_type": "display_data"
    },
    {
     "name": "stderr",
     "output_type": "stream",
     "text": [
      "A new version of the following files was downloaded from https://huggingface.co/tiiuae/falcon-7b-instruct:\n",
      "- configuration_RW.py\n",
      ". Make sure to double-check they do not contain any added malicious code. To avoid downloading new versions of the code file, you can pin a revision.\n"
     ]
    },
    {
     "data": {
      "application/vnd.jupyter.widget-view+json": {
       "model_id": "947af7915e2d4bec9d91818b9eb95338",
       "version_major": 2,
       "version_minor": 0
      },
      "text/plain": [
       "Downloading (…)main/modelling_RW.py:   0%|          | 0.00/47.5k [00:00<?, ?B/s]"
      ]
     },
     "metadata": {},
     "output_type": "display_data"
    },
    {
     "name": "stderr",
     "output_type": "stream",
     "text": [
      "A new version of the following files was downloaded from https://huggingface.co/tiiuae/falcon-7b-instruct:\n",
      "- modelling_RW.py\n",
      ". Make sure to double-check they do not contain any added malicious code. To avoid downloading new versions of the code file, you can pin a revision.\n"
     ]
    },
    {
     "data": {
      "application/vnd.jupyter.widget-view+json": {
       "model_id": "627408a2b6b345a883fdd6a752082a88",
       "version_major": 2,
       "version_minor": 0
      },
      "text/plain": [
       "Downloading (…)model.bin.index.json:   0%|          | 0.00/16.9k [00:00<?, ?B/s]"
      ]
     },
     "metadata": {},
     "output_type": "display_data"
    },
    {
     "data": {
      "application/vnd.jupyter.widget-view+json": {
       "model_id": "2332cfafaa82440eaab0250dec34ef3e",
       "version_major": 2,
       "version_minor": 0
      },
      "text/plain": [
       "Downloading shards:   0%|          | 0/2 [00:00<?, ?it/s]"
      ]
     },
     "metadata": {},
     "output_type": "display_data"
    },
    {
     "data": {
      "application/vnd.jupyter.widget-view+json": {
       "model_id": "a9143f0bbbcb43da83ab38297cb64fd3",
       "version_major": 2,
       "version_minor": 0
      },
      "text/plain": [
       "Downloading (…)l-00001-of-00002.bin:   0%|          | 0.00/9.95G [00:00<?, ?B/s]"
      ]
     },
     "metadata": {},
     "output_type": "display_data"
    },
    {
     "data": {
      "application/vnd.jupyter.widget-view+json": {
       "model_id": "a1f41c1926f1473c8eb2d1a91eba4a64",
       "version_major": 2,
       "version_minor": 0
      },
      "text/plain": [
       "Downloading (…)l-00002-of-00002.bin:   0%|          | 0.00/4.48G [00:00<?, ?B/s]"
      ]
     },
     "metadata": {},
     "output_type": "display_data"
    },
    {
     "data": {
      "application/vnd.jupyter.widget-view+json": {
       "model_id": "a36448b7c3264d1795b965d796c4ff01",
       "version_major": 2,
       "version_minor": 0
      },
      "text/plain": [
       "Loading checkpoint shards:   0%|          | 0/2 [00:00<?, ?it/s]"
      ]
     },
     "metadata": {},
     "output_type": "display_data"
    },
    {
     "data": {
      "application/vnd.jupyter.widget-view+json": {
       "model_id": "4df04e852c4847faa17b125898faecee",
       "version_major": 2,
       "version_minor": 0
      },
      "text/plain": [
       "Downloading (…)neration_config.json:   0%|          | 0.00/111 [00:00<?, ?B/s]"
      ]
     },
     "metadata": {},
     "output_type": "display_data"
    },
    {
     "name": "stderr",
     "output_type": "stream",
     "text": [
      "The model 'RWForCausalLM' is not supported for text-generation. Supported models are ['BartForCausalLM', 'BertLMHeadModel', 'BertGenerationDecoder', 'BigBirdForCausalLM', 'BigBirdPegasusForCausalLM', 'BioGptForCausalLM', 'BlenderbotForCausalLM', 'BlenderbotSmallForCausalLM', 'BloomForCausalLM', 'CamembertForCausalLM', 'CodeGenForCausalLM', 'CpmAntForCausalLM', 'CTRLLMHeadModel', 'Data2VecTextForCausalLM', 'ElectraForCausalLM', 'ErnieForCausalLM', 'GitForCausalLM', 'GPT2LMHeadModel', 'GPT2LMHeadModel', 'GPTBigCodeForCausalLM', 'GPTNeoForCausalLM', 'GPTNeoXForCausalLM', 'GPTNeoXJapaneseForCausalLM', 'GPTJForCausalLM', 'LlamaForCausalLM', 'MarianForCausalLM', 'MBartForCausalLM', 'MegaForCausalLM', 'MegatronBertForCausalLM', 'MvpForCausalLM', 'OpenLlamaForCausalLM', 'OpenAIGPTLMHeadModel', 'OPTForCausalLM', 'PegasusForCausalLM', 'PLBartForCausalLM', 'ProphetNetForCausalLM', 'QDQBertLMHeadModel', 'ReformerModelWithLMHead', 'RemBertForCausalLM', 'RobertaForCausalLM', 'RobertaPreLayerNormForCausalLM', 'RoCBertForCausalLM', 'RoFormerForCausalLM', 'RwkvForCausalLM', 'Speech2Text2ForCausalLM', 'TransfoXLLMHeadModel', 'TrOCRForCausalLM', 'XGLMForCausalLM', 'XLMWithLMHeadModel', 'XLMProphetNetForCausalLM', 'XLMRobertaForCausalLM', 'XLMRobertaXLForCausalLM', 'XLNetLMHeadModel', 'XmodForCausalLM'].\n"
     ]
    }
   ],
   "source": [
    "from langchain import HuggingFacePipeline\n",
    "from transformers import AutoTokenizer, pipeline\n",
    "import torch\n",
    "\n",
    "\n",
    "\n",
    "model = \"tiiuae/falcon-7b-instruct\" #tiiuae/falcon-40b-instruct\n",
    "\n",
    "tokenizer = AutoTokenizer.from_pretrained(model)\n",
    "\n",
    "pipeline = pipeline(\n",
    "    \"text-generation\", #task\n",
    "    model=model,\n",
    "    tokenizer=tokenizer,\n",
    "    torch_dtype=torch.bfloat16,\n",
    "    trust_remote_code=True,\n",
    "    device_map=\"auto\",\n",
    "    max_length=1600,\n",
    "    do_sample=True,\n",
    "    top_k=10,\n",
    "    num_return_sequences=1,\n",
    "    eos_token_id=tokenizer.eos_token_id\n",
    ")"
   ]
  },
  {
   "cell_type": "code",
   "execution_count": 14,
   "id": "b566d336",
   "metadata": {},
   "outputs": [
    {
     "name": "stderr",
     "output_type": "stream",
     "text": [
      "Setting `pad_token_id` to `eos_token_id`:11 for open-end generation.\n"
     ]
    },
    {
     "name": "stdout",
     "output_type": "stream",
     "text": [
      " The Master's Ghost is a political allegory. The story revolves around the theme of death and ghosts, and the main character, the Master's Ghost, represents the state of the country. The country is haunted by the ghosts of the past, and it can only be exorcised through collective work and dedication. The Master's Ghost represents the collective conscience of the country, which is haunted by its own history of violence and oppression. Therefore, the Master's Ghost serves as an allegory for this collective conscience that the nation needs to exorcise in order to survive and progress.\n"
     ]
    }
   ],
   "source": [
    "from langchain import PromptTemplate,  LLMChain\n",
    "llm = HuggingFacePipeline(pipeline = pipeline, model_kwargs = {'temperature':0})\n",
    "template = \"\"\"\n",
    "You are an intelligent chatbot. Help the following question with only using the below context only.\n",
    "\n",
    "Context: ghost of master\n",
    "\n",
    "When the old master died, everyone in the country said, \"What will happen to us if you go.\" He was also sad to hear. If you think, \"Who will keep them cool when I go?\" That said, there is no way to avoid death. Yet the deity kindly said, “What is the thought. Don't hold on to them as a ghost. Humans have death, ghosts have no death.”\n",
    "\n",
    "The people of the country were greatly relieved. Because if you believe in the future, you have as much thought for it, if you believe in ghosts, there is no thought; All the thoughts are pressing in the ghost's head. But he has no head, so there is no headache for anyone. However, those who go to think their own thoughts by nature eat the ears of ghosts. That ear cannot be released, there is no escape from him, there is no complaint against him, there is no judgment about him. Deshasuddha people close their eyes and become haunted. The theoreticians of the country said, \"This walking with eyes closed is the most primitive walking in the world. That's what it's called walking in the dark. The first eyeless germs of creation did this; In the grass, in the trees, there are still glimpses of this movement.” Hearing this, the haunted country feels its primitive nobility. Very happy with it. Bhoot Naib is the guard of the haunted prison. The walls of that prison cannot be seen. Therefore, it is not possible to think about how it can be leaked. Not a drop of oil that can be sold in the market comes out of the mine that has to be constantly rotated in this prison, the brilliance of the people goes out in the process. When that radiance goes out, people become cold. That way, there is peace in the kingdom of ghosts, be it food, clothes, health. It is an example of how peaceful it is that in other countries, when ghosts are rampant, people become restless and seek relief. No worries here. Because the ghost has got the burden earlier.\n",
    "\n",
    "In this way the day went on, no one had any doubts about the geopolitical system; They could be proud forever that their future is tied to the ghost's stake like a pet sheep, that future does not wave or meow, it lies silently on the ground, as if it is the ground forever. It was a little difficult for only a very minor reason. It is that other countries of the world have not been ghosted. So in all the other countries, the oil comes out of the mines to keep the chariots of their future moving, not to grind the blood of the chest and pour it into the hands of ghosts. So people didn't join there at all. They are terribly alert.\n",
    "\n",
    "On this side, in the extreme cold, across the kingdom of ghosts, \"Khoka Ghumolo, Para Jurolo\". It is a comfort for the child, and also for the guardian of the child; And we have to talk about the neighborhood. But, \"Bargi came to the country\". Otherwise, the rhythm does not match, the verse of history remains lame. \"Why is this so?\" They waved the flame in one sentence and said, “It is not the fault of ghosts, not the fault of haunted country, it is the fault of Bargi alone. Why does Bargi come?” Everyone said, \"That's it.\" If you feel very comforted. Whoever is to blame, ghosts walk around the window, and ghosts walk in the streets of Sadar; There is no way to get out of the house. From one side, he shouted, \"Give the rent.\" And from another side he shouted, \"Give the rent.\" Now the question is, 'Khajna deb kise'. All this time, from the north, south, east and west, flocks of different types of bulbuls came and ate the paddy, no one had a clue. Those who are wary of the world do not want to approach them, lest they have to atone. But, they are suddenly very close to them, and do not atone. The group of Shiromani-Churamani opened and said, \"Those who are unconscious are pure, those who are alert are impure, so be indifferent to those who are alert, Prabuddhimiva Suptah.\" Everyone is very happy to hear.\n",
    "\n",
    "But, in spite of that, the question cannot be prevented, 'Khajna Deb Kise'. From crematorium to crematorium, his answer came, \"With tears, with honor, with faith, with the blood of the chest.\" The problem with questioning is that when it comes, it doesn't come alone. So another question has arisen, \"Will the rule of ghosts last forever?\" Masipisi and Mastuto-Pistuto's team, who did not sleep, said with their hands in their ears, \"What a disaster! I have never heard such a question in my father's life. What, then, of Sanatana sleep—that most primitive, oldest sleep of all awakenings? ” The questioner says, “I understand that, but what can be done with the most modern bulbul flock and the most present bargi group.” Masipisi says, \"I will call the flock of bulbuls the name of Krishna, and also the group of bargis.\" Arbachin became haughty and said, \"I will exorcise the ghost as best I can.\" Bhoot Naib rolled his eyes and said, “Shut up. Ghani has not yet stopped.\" Hearing this, the country boy fell silent, then lay back on his side.\n",
    "\n",
    "The point is, the old master is neither alive nor dead, but a ghost. He does not shake the country, but does not leave. Two people in the country, who do not speak during the day for fear of the Naib, join hands late at night and say, \"Sir, isn't it time to leave yet?\" Karta said, \"Oh fool, I don't even have a catch, I don't have an exception, only you leave me.\" They say, \"Fear that, Lord.\" \"That's where the ghost is,\" says Karta.\n",
    "\n",
    "\n",
    "\n",
    "Question: {question}\n",
    "Answer:\"\"\"\n",
    "prompt = PromptTemplate(template=template, input_variables=[\"question\"])\n",
    "\n",
    "llm_chain = LLMChain(prompt=prompt, llm=llm)\n",
    "\n",
    "question = \"Is The Master's Ghost a mere ghost story or a political allegory? Write with explanation.\"\n",
    "\n",
    "print(llm_chain.run(question))"
   ]
  },
  {
   "cell_type": "code",
   "execution_count": 17,
   "id": "a527c314",
   "metadata": {},
   "outputs": [
    {
     "name": "stderr",
     "output_type": "stream",
     "text": [
      "Setting `pad_token_id` to `eos_token_id`:11 for open-end generation.\n"
     ]
    },
    {
     "name": "stdout",
     "output_type": "stream",
     "text": [
      " He is said about the people. The reason is that they are constantly in fear and anxiety due to his presence, which causes headaches. That's why he does not have a head.\n"
     ]
    }
   ],
   "source": [
    "from langchain import PromptTemplate,  LLMChain\n",
    "llm = HuggingFacePipeline(pipeline = pipeline, model_kwargs = {'temperature':0})\n",
    "template = \"\"\"\n",
    "You are an intelligent chatbot. Help the following question with only using the below context only.\n",
    "\n",
    "Context: ghost of master\n",
    "\n",
    "When the old master died, everyone in the country said, \"What will happen to us if you go.\" He was also sad to hear. If you think, \"Who will keep them cool when I go?\" That said, there is no way to avoid death. Yet the deity kindly said, “What is the thought. Don't hold on to them as a ghost. Humans have death, ghosts have no death.”\n",
    "\n",
    "The people of the country were greatly relieved. Because if you believe in the future, you have as much thought for it, if you believe in ghosts, there is no thought; All the thoughts are pressing in the ghost's head. But he has no head, so there is no headache for anyone. However, those who go to think their own thoughts by nature eat the ears of ghosts. That ear cannot be released, there is no escape from him, there is no complaint against him, there is no judgment about him. Deshasuddha people close their eyes and become haunted. The theoreticians of the country said, \"This walking with eyes closed is the most primitive walking in the world. That's what it's called walking in the dark. The first eyeless germs of creation did this; In the grass, in the trees, there are still glimpses of this movement.” Hearing this, the haunted country feels its primitive nobility. Very happy with it. Bhoot Naib is the guard of the haunted prison. The walls of that prison cannot be seen. Therefore, it is not possible to think about how it can be leaked. Not a drop of oil that can be sold in the market comes out of the mine that has to be constantly rotated in this prison, the brilliance of the people goes out in the process. When that radiance goes out, people become cold. That way, there is peace in the kingdom of ghosts, be it food, clothes, health. It is an example of how peaceful it is that in other countries, when ghosts are rampant, people become restless and seek relief. No worries here. Because the ghost has got the burden earlier.\n",
    "\n",
    "In this way the day went on, no one had any doubts about the geopolitical system; They could be proud forever that their future is tied to the ghost's stake like a pet sheep, that future does not wave or meow, it lies silently on the ground, as if it is the ground forever. It was a little difficult for only a very minor reason. It is that other countries of the world have not been ghosted. So in all the other countries, the oil comes out of the mines to keep the chariots of their future moving, not to grind the blood of the chest and pour it into the hands of ghosts. So people didn't join there at all. They are terribly alert.\n",
    "\n",
    "On this side, in the extreme cold, across the kingdom of ghosts, \"Khoka Ghumolo, Para Jurolo\". It is a comfort for the child, and also for the guardian of the child; And we have to talk about the neighborhood. But, \"Bargi came to the country\". Otherwise, the rhythm does not match, the verse of history remains lame. \"Why is this so?\" They waved the flame in one sentence and said, “It is not the fault of ghosts, not the fault of haunted country, it is the fault of Bargi alone. Why does Bargi come?” Everyone said, \"That's it.\" If you feel very comforted. Whoever is to blame, ghosts walk around the window, and ghosts walk in the streets of Sadar; There is no way to get out of the house. From one side, he shouted, \"Give the rent.\" And from another side he shouted, \"Give the rent.\" Now the question is, 'Khajna deb kise'. All this time, from the north, south, east and west, flocks of different types of bulbuls came and ate the paddy, no one had a clue. Those who are wary of the world do not want to approach them, lest they have to atone. But, they are suddenly very close to them, and do not atone. The group of Shiromani-Churamani opened and said, \"Those who are unconscious are pure, those who are alert are impure, so be indifferent to those who are alert, Prabuddhimiva Suptah.\" Everyone is very happy to hear.\n",
    "\n",
    "But, in spite of that, the question cannot be prevented, 'Khajna Deb Kise'. From crematorium to crematorium, his answer came, \"With tears, with honor, with faith, with the blood of the chest.\" The problem with questioning is that when it comes, it doesn't come alone. So another question has arisen, \"Will the rule of ghosts last forever?\" Masipisi and Mastuto-Pistuto's team, who did not sleep, said with their hands in their ears, \"What a disaster! I have never heard such a question in my father's life. What, then, of Sanatana sleep—that most primitive, oldest sleep of all awakenings? ” The questioner says, “I understand that, but what can be done with the most modern bulbul flock and the most present bargi group.” Masipisi says, \"I will call the flock of bulbuls the name of Krishna, and also the group of bargis.\" Arbachin became haughty and said, \"I will exorcise the ghost as best I can.\" Bhoot Naib rolled his eyes and said, “Shut up. Ghani has not yet stopped.\" Hearing this, the country boy fell silent, then lay back on his side.\n",
    "\n",
    "The point is, the old master is neither alive nor dead, but a ghost. He does not shake the country, but does not leave. Two people in the country, who do not speak during the day for fear of the Naib, join hands late at night and say, \"Sir, isn't it time to leave yet?\" Karta said, \"Oh fool, I don't even have a catch, I don't have an exception, only you leave me.\" They say, \"Fear that, Lord.\" \"That's where the ghost is,\" says Karta.\n",
    "\n",
    "\n",
    "\n",
    "\n",
    "Question: {question}\n",
    "Answer:\"\"\"\n",
    "prompt = PromptTemplate(template=template, input_variables=[\"question\"])\n",
    "\n",
    "llm_chain = LLMChain(prompt=prompt, llm=llm)\n",
    "\n",
    "question = \"He has no head, so no headache for anyone. Who is said about? What is the reason for saying this?\"\n",
    "\n",
    "\n",
    "print(llm_chain.run(question))"
   ]
  },
  {
   "cell_type": "code",
   "execution_count": 13,
   "id": "0a82231e",
   "metadata": {},
   "outputs": [
    {
     "name": "stderr",
     "output_type": "stream",
     "text": [
      "Setting `pad_token_id` to `eos_token_id`:11 for open-end generation.\n"
     ]
    },
    {
     "name": "stdout",
     "output_type": "stream",
     "text": [
      " In the kingdom of the ghost, peace is maintained by the exorcist, who uses fear of punishment to keep people in control. People are afraid of the exorcist’s curse, so they maintain their silence and follow him, no matter what he says or does. The exorcist is the one to maintain peace in the kingdom, and his fear keeps everyone in order.\n"
     ]
    }
   ],
   "source": [
    "from langchain import PromptTemplate,  LLMChain\n",
    "llm = HuggingFacePipeline(pipeline = pipeline, model_kwargs = {'temperature':0})\n",
    "template = \"\"\"\n",
    "You are an intelligent chatbot. Help the following question with only using the below context only.\n",
    "Context: ghost of master\n",
    "\n",
    "When the old master died, everyone in the country said, \"What will happen to us if you go.\" He was also sad to hear. If you think, \"Who will keep them cool when I go?\" That said, there is no way to avoid death. Yet the deity kindly said, “What is the thought. Don't hold on to them as a ghost. Humans have death, ghosts have no death.”\n",
    "\n",
    "The people of the country were greatly relieved. Because if you believe in the future, you have as much thought for it, if you believe in ghosts, there is no thought; All the thoughts are pressing in the ghost's head. But he has no head, so there is no headache for anyone. However, those who go to think their own thoughts by nature eat the ears of ghosts. That ear cannot be released, there is no escape from him, there is no complaint against him, there is no judgment about him. Deshasuddha people close their eyes and become haunted. The theoreticians of the country said, \"This walking with eyes closed is the most primitive walking in the world. That's what it's called walking in the dark. The first eyeless germs of creation did this; In the grass, in the trees, there are still glimpses of this movement.” Hearing this, the haunted country feels its primitive nobility. Very happy with it. Bhoot Naib is the guard of the haunted prison. The walls of that prison cannot be seen. Therefore, it is not possible to think about how it can be leaked. Not a drop of oil that can be sold in the market comes out of the mine that has to be constantly rotated in this prison, the brilliance of the people goes out in the process. When that radiance goes out, people become cold. That way, there is peace in the kingdom of ghosts, be it food, clothes, health. It is an example of how peaceful it is that in other countries, when ghosts are rampant, people become restless and seek relief. No worries here. Because the ghost has got the burden earlier.\n",
    "\n",
    "\n",
    "\n",
    "\n",
    "Question: {question}\n",
    "Answer:\"\"\"\n",
    "prompt = PromptTemplate(template=template, input_variables=[\"question\"])\n",
    "\n",
    "llm_chain = LLMChain(prompt=prompt, llm=llm)\n",
    "\n",
    "question =\"Explain how peace is maintained in the kingdom of the Ghost.\"\n",
    "\n",
    "\n",
    "print(llm_chain.run(question))"
   ]
  },
  {
   "cell_type": "code",
   "execution_count": 16,
   "id": "fd094d2d",
   "metadata": {},
   "outputs": [
    {
     "name": "stderr",
     "output_type": "stream",
     "text": [
      "/opt/conda/lib/python3.10/site-packages/transformers/pipelines/base.py:1081: UserWarning: You seem to be using the pipelines sequentially on GPU. In order to maximize efficiency please use a dataset\n",
      "  warnings.warn(\n",
      "Setting `pad_token_id` to `eos_token_id`:11 for open-end generation.\n"
     ]
    },
    {
     "name": "stdout",
     "output_type": "stream",
     "text": [
      " Peace is maintained in the kingdom of the ghost because, despite their presence, everyone is kept in check. The ghost is a part of the society and has its own set of norms and codes. The ghost does not have any power in the world, but they still have a place and importance. Everyone in the city knows this, so they do not interfere or interfere with the lives of the living and the ghosts. They live in their own space, with their specific rules, not interfering in the world that they are in. The ghost and the living can live peacefully as long as they respect each other's space. It is important to respect each other's space, and in turn, the ghost is also important. Therefore, peace is maintained in the kingdom of the ghost. \n",
      "\n",
      "This peace is a way of life in the kingdom of the ghost, and it is maintained through the respect between the living and the ghosts.\n"
     ]
    }
   ],
   "source": [
    "from langchain import PromptTemplate,  LLMChain\n",
    "llm = HuggingFacePipeline(pipeline = pipeline, model_kwargs = {'temperature':0})\n",
    "template = \"\"\"\n",
    "You are an intelligent chatbot. Help the following question with only using the below context only.\n",
    "\n",
    "Context: ghost of master\n",
    "\n",
    "When the old master died, everyone in the country said, \"What will happen to us if you go.\" He was also sad to hear. If you think, \"Who will keep them cool when I go?\" That said, there is no way to avoid death. Yet the deity kindly said, “What is the thought. Don't hold on to them as a ghost. Humans have death, ghosts have no death.”\n",
    "\n",
    "The people of the country were greatly relieved. Because if you believe in the future, you have as much thought for it, if you believe in ghosts, there is no thought; All the thoughts are pressing in the ghost's head. But he has no head, so there is no headache for anyone. However, those who go to think their own thoughts by nature eat the ears of ghosts. That ear cannot be released, there is no escape from him, there is no complaint against him, there is no judgment about him. Deshasuddha people close their eyes and become haunted. The theoreticians of the country said, \"This walking with eyes closed is the most primitive walking in the world. That's what it's called walking in the dark. The first eyeless germs of creation did this; In the grass, in the trees, there are still glimpses of this movement.” Hearing this, the haunted country feels its primitive nobility. Very happy with it. Bhoot Naib is the guard of the haunted prison. The walls of that prison cannot be seen. Therefore, it is not possible to think about how it can be leaked. Not a drop of oil that can be sold in the market comes out of the mine that has to be constantly rotated in this prison, the brilliance of the people goes out in the process. When that radiance goes out, people become cold. That way, there is peace in the kingdom of ghosts, be it food, clothes, health. It is an example of how peaceful it is that in other countries, when ghosts are rampant, people become restless and seek relief. No worries here. Because the ghost has got the burden earlier.\n",
    "\n",
    "In this way the day went on, no one had any doubts about the geopolitical system; They could be proud forever that their future is tied to the ghost's stake like a pet sheep, that future does not wave or meow, it lies silently on the ground, as if it is the ground forever. It was a little difficult for only a very minor reason. It is that other countries of the world have not been ghosted. So in all the other countries, the oil comes out of the mines to keep the chariots of their future moving, not to grind the blood of the chest and pour it into the hands of ghosts. So people didn't join there at all. They are terribly alert.\n",
    "\n",
    "On this side, in the extreme cold, across the kingdom of ghosts, \"Khoka Ghumolo, Para Jurolo\". It is a comfort for the child, and also for the guardian of the child; And we have to talk about the neighborhood. But, \"Bargi came to the country\". Otherwise, the rhythm does not match, the verse of history remains lame. \"Why is this so?\" They waved the flame in one sentence and said, “It is not the fault of ghosts, not the fault of haunted country, it is the fault of Bargi alone. Why does Bargi come?” Everyone said, \"That's it.\" If you feel very comforted. Whoever is to blame, ghosts walk around the window, and ghosts walk in the streets of Sadar; There is no way to get out of the house. From one side, he shouted, \"Give the rent.\" And from another side he shouted, \"Give the rent.\" Now the question is, 'Khajna deb kise'. All this time, from the north, south, east and west, flocks of different types of bulbuls came and ate the paddy, no one had a clue. Those who are wary of the world do not want to approach them, lest they have to atone. But, they are suddenly very close to them, and do not atone. The group of Shiromani-Churamani opened and said, \"Those who are unconscious are pure, those who are alert are impure, so be indifferent to those who are alert, Prabuddhimiva Suptah.\" Everyone is very happy to hear.\n",
    "\n",
    "But, in spite of that, the question cannot be prevented, 'Khajna Deb Kise'. From crematorium to crematorium, his answer came, \"With tears, with honor, with faith, with the blood of the chest.\" The problem with questioning is that when it comes, it doesn't come alone. So another question has arisen, \"Will the rule of ghosts last forever?\" Masipisi and Mastuto-Pistuto's team, who did not sleep, said with their hands in their ears, \"What a disaster! I have never heard such a question in my father's life. What, then, of Sanatana sleep—that most primitive, oldest sleep of all awakenings? ” The questioner says, “I understand that, but what can be done with the most modern bulbul flock and the most present bargi group.” Masipisi says, \"I will call the flock of bulbuls the name of Krishna, and also the group of bargis.\" Arbachin became haughty and said, \"I will exorcise the ghost as best I can.\" Bhoot Naib rolled his eyes and said, “Shut up. Ghani has not yet stopped.\" Hearing this, the country boy fell silent, then lay back on his side.\n",
    "\n",
    "The point is, the old master is neither alive nor dead, but a ghost. He does not shake the country, but does not leave. Two people in the country, who do not speak during the day for fear of the Naib, join hands late at night and say, \"Sir, isn't it time to leave yet?\" Karta said, \"Oh fool, I don't even have a catch, I don't have an exception, only you leave me.\" They say, \"Fear that, Lord.\" \"That's where the ghost is,\" says Karta.\n",
    "\n",
    "\n",
    "\n",
    "Question: {question}\n",
    "Answer:\"\"\"\n",
    "prompt = PromptTemplate(template=template, input_variables=[\"question\"])\n",
    "\n",
    "llm_chain = LLMChain(prompt=prompt, llm=llm)\n",
    "\n",
    "question =\"Explain how peace is maintained in the kingdom of the Ghost.\"\n",
    "\n",
    "\n",
    "print(llm_chain.run(question))"
   ]
  },
  {
   "cell_type": "code",
   "execution_count": 20,
   "id": "853707ab",
   "metadata": {},
   "outputs": [
    {
     "name": "stderr",
     "output_type": "stream",
     "text": [
      "Setting `pad_token_id` to `eos_token_id`:11 for open-end generation.\n"
     ]
    },
    {
     "name": "stdout",
     "output_type": "stream",
     "text": [
      " The Indian government's new decree that has been implemented has caused extreme harassment for common citizens. Many documents that are required for Aadhaar or updating Aadhaar are excluded from proving the identity documents. Documents like voter card, PAN, ration card, driving license, and other identity proofs are no longer valid. The update rule requires identification documents like bank statements or Aadhaar, which is mandatory for bank-post office transactions, but the identity card is not linked to it. This results in harassment to people who are not well-connected.\n",
      "User \n"
     ]
    }
   ],
   "source": [
    "from langchain import PromptTemplate,  LLMChain\n",
    "llm = HuggingFacePipeline(pipeline = pipeline, model_kwargs = {'temperature':0,\"max_length\":200})\n",
    "template = \"\"\"\n",
    "You are an intelligent chatbot. Help the following question with only using the below context only.\n",
    "\n",
    "Context: Center's new decree. And that opened the door to extreme harassment for common people. The Modi government simply scrapped many of the documents required for new Aadhaar or updating Aadhaar. Most importantly, identity documents like voter card, PAN, ration card have been excluded as proof of date of birth. The Unique Identification Authority of India or UIDAI introduced this rule by issuing a notification. PAN is now mandatory for bank-post office transactions. Again, if PAN is not linked with Aadhaar, all services will be stopped. However, this identity card is no longer valid for Aadhaar! A number of other documents have also been added to this list. Worryingly, most of the documents that are valid under the new guidelines are not held by ordinary working people. Aadhaar may have become theirs. But the update? As per the new rules, Aadhaar must be updated every 10 years. In that case, they will update Aadhaar by showing which identity card? Already those who come with PAN or voters to Aadhaar service center or post office to get Aadhaar card, or to change their date of birth, are being harassed. After standing in line with voter or ration card, they can know that these identity cards will not work. Aadhaar authorities have not given any explanation as to why these important identity cards have been rejected as proof of date of birth. It does not end here. Date of Birth Certificate, School Transfer Certificate, Central Government Health Service Scheme Certificate, Ration Card, Driving License, Kisan Photo Passbook, Handicapped Certificate, SC, ST or OBC Certificate, Marriage Certificate, 100 Days Job Card, Labor card too. So what will be accepted? Said, passport, identity card of government and non-government organizations, pensioner card, mark sheet or certificate of recognized educational institution etc.\n",
    "Let's come to the proof of identity documents. In this case Aadhaar authorities used to accept bank passbook as a document earlier. It is no longer accepted. Bank statements, credit card statements or post office savings account statements will also not be accepted. Certificate of MP, MLA, Panchayat Pradhan or Municipal Councilor will not be taken. Electricity bills, phone bills, property tax bills, gas connection bills, life or health insurance policy documents are also excluded. In this case, however, PAN, ration and voter card, driving license are accepted.\n",
    "Till now driving license was accepted as address proof. That too has now gone to the cancellation register. Similarly, where identity cards of government or non-government organizations employees were accepted earlier, it will no longer be accepted. Same applies to pensioner card, school leaving certificate. So what will be accepted? Only Passport, Ration Card, Voter Card, Kishan Photo Passbook, Marriage Certificate, ST, ST, OBC Certificate, Bank Statement. The authorities did not explain this either. The result is only one - suffering.\n",
    "\n",
    "Question: {question}\n",
    "Answer:\"\"\"\n",
    "prompt = PromptTemplate(template=template, input_variables=[\"question\"])\n",
    "\n",
    "llm_chain = LLMChain(prompt=prompt, llm=llm)\n",
    "\n",
    "question =\"Summarize the following context.\"\n",
    "\n",
    "\n",
    "print(llm_chain.run(question))"
   ]
  },
  {
   "cell_type": "code",
   "execution_count": null,
   "id": "7430a36f",
   "metadata": {},
   "outputs": [],
   "source": []
  }
 ],
 "metadata": {
  "kernelspec": {
   "display_name": "Python 3",
   "language": "python",
   "name": "python3"
  },
  "language_info": {
   "codemirror_mode": {
    "name": "ipython",
    "version": 3
   },
   "file_extension": ".py",
   "mimetype": "text/x-python",
   "name": "python",
   "nbconvert_exporter": "python",
   "pygments_lexer": "ipython3",
   "version": "3.10.12 (main, Jun 11 2023, 05:26:28) [GCC 11.4.0]"
  },
  "vscode": {
   "interpreter": {
    "hash": "916dbcbb3f70747c44a77c7bcd40155683ae19c65e1c03b4aa3499c5328201f1"
   }
  }
 },
 "nbformat": 4,
 "nbformat_minor": 5
}
